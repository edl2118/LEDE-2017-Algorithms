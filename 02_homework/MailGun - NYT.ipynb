{
 "cells": [
  {
   "cell_type": "code",
   "execution_count": 1,
   "metadata": {
    "collapsed": true
   },
   "outputs": [],
   "source": [
    "#This is the most important thing to do as a data journalist ... \n",
    "key = \"key-XXXXX\""
   ]
  },
  {
   "cell_type": "code",
   "execution_count": 2,
   "metadata": {
    "collapsed": true
   },
   "outputs": [],
   "source": [
    "from bs4 import BeautifulSoup\n",
    "import requests"
   ]
  },
  {
   "cell_type": "code",
   "execution_count": 3,
   "metadata": {
    "collapsed": true
   },
   "outputs": [],
   "source": [
    "response = requests.get('https://www.nytimes.com/')\n",
    "doc = BeautifulSoup(response.text, 'html.parser')"
   ]
  },
  {
   "cell_type": "code",
   "execution_count": 4,
   "metadata": {
    "collapsed": true
   },
   "outputs": [],
   "source": [
    "headlines = doc.find_all('h3')"
   ]
  },
  {
   "cell_type": "code",
   "execution_count": 5,
   "metadata": {},
   "outputs": [
    {
     "name": "stdout",
     "output_type": "stream",
     "text": [
      "\n",
      "MORE IN POLITICS\n",
      "More News\n",
      "Times Insider »\n",
      "The Crossword »\n",
      "The Crossword »\n",
      "Wordplay »\n",
      "Trump Rebuked China for North Korea’s Oil Smuggling. It’s More Complicated.\n",
      "Amazon Chooses 20 Finalists for Second Headquarters\n",
      "Op-Ed Contributor: A Trojan Horse Threatens the Nation’s Parks\n",
      "Trump Gives Health Workers New Religious Liberty Protections\n",
      "Amazon Chooses 20 Finalists for Second Headquarters\n",
      "Does ‘Three Billboards’ Say Anything About America? Well …\n",
      "Two Federal Reserve Openings Provide One Chance to Counter Trump\n",
      "Brooklyn’s Favorite Pot Dealer Returns\n",
      "Does ‘Three Billboards’ Say Anything About America? Well …\n",
      "Saying You Want to Reform the Tax Code? Easy. Doing It? Less So.\n",
      "Vikings and Eagles Fans, Look Away\n",
      "New York Has Its ‘Jerry Springer’ Moment, With Arias and Dancing\n",
      "Matter: In the Arctic, More Rain May Mean Fewer Musk Oxen\n",
      "Peter Mayle, Who Wrote of ‘A Year in Provence,’ Is Dead at 78\n",
      "Review: ‘The Assassination of Gianni Versace’ Is Fashionable, but Flat\n",
      "Fed Up With Drug Companies, Hospitals Decide to Start Their Own\n",
      "36 Hours: 36 Hours in Washington, D.C.\n",
      "Profile: When a Therapist Puts Buddhism Into Practice\n",
      "Black Colleges Swept Up in For-Profit Crackdown Find Relief From DeVos\n",
      "After the Apologies, Restaurants Struggle to Change\n",
      "Feature: Fear of the Federal Government in the Ranchlands of Oregon\n",
      "The Hunt: Living Way Off Campus, in Williamsburg, Brooklyn\n",
      "The U.S. Fertility Rate Is Down, Yet More Women Are Mothers\n",
      "‘I, Figure Skating Reporter’: Full Circle With Tonya Harding\n",
      "G.M. Chief Cautions Trump Administration on Upending Nafta\n",
      "My Detox: Persimmons for Breakfast, Two (Healthy) Ways\n",
      "Living In\n",
      "News\n",
      "Opinion\n",
      "Arts\n",
      "Living\n",
      "Listings & More\n",
      "Subscribe\n"
     ]
    }
   ],
   "source": [
    "email_text = ''\n",
    "for headline in headlines:\n",
    "    email_text = email_text + '\\n' + headline.text.strip()\n",
    "print(email_text)   "
   ]
  },
  {
   "cell_type": "code",
   "execution_count": 6,
   "metadata": {},
   "outputs": [
    {
     "data": {
      "text/plain": [
       "<Response [200]>"
      ]
     },
     "execution_count": 6,
     "metadata": {},
     "output_type": "execute_result"
    }
   ],
   "source": [
    "requests.post(\n",
    "\"https://api.mailgun.net/v3/sandboxf69b43b5ea9942ce851e8fc484051a36.mailgun.org/messages\",\n",
    "auth=(\"api\", \"key-XXXXX\"),\n",
    "        data={\"from\": \"Mailgun\",\n",
    "              \"to\": \"XXXXX\",\n",
    "              \"subject\": \"latest headlines from NYT\",\n",
    "              \"text\": email_text})"
   ]
  },
  {
   "cell_type": "code",
   "execution_count": null,
   "metadata": {
    "collapsed": true
   },
   "outputs": [],
   "source": []
  }
 ],
 "metadata": {
  "kernelspec": {
   "display_name": "Python 3",
   "language": "python",
   "name": "python3"
  },
  "language_info": {
   "codemirror_mode": {
    "name": "ipython",
    "version": 3
   },
   "file_extension": ".py",
   "mimetype": "text/x-python",
   "name": "python",
   "nbconvert_exporter": "python",
   "pygments_lexer": "ipython3",
   "version": "3.6.1"
  }
 },
 "nbformat": 4,
 "nbformat_minor": 2
}
