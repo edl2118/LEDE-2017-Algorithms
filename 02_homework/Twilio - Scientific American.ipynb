{
 "cells": [
  {
   "cell_type": "markdown",
   "metadata": {},
   "source": [
    "### Step 1 - Pip install twilio\n",
    "### Step 2 - Register for twilio account"
   ]
  },
  {
   "cell_type": "code",
   "execution_count": 1,
   "metadata": {
    "collapsed": true
   },
   "outputs": [],
   "source": [
    "import requests\n",
    "from bs4 import BeautifulSoup\n",
    "import pandas as pd\n",
    "import time \n",
    "import os.path"
   ]
  },
  {
   "cell_type": "code",
   "execution_count": 2,
   "metadata": {
    "collapsed": true
   },
   "outputs": [],
   "source": [
    "#Connecing to Twilio\n",
    "from twilio.rest import Client\n",
    "account_sid = \"XXXXX\"\n",
    "auth_token  = \"XXXXX\"\n",
    "client = Client(account_sid, auth_token)"
   ]
  },
  {
   "cell_type": "code",
   "execution_count": 3,
   "metadata": {
    "collapsed": true
   },
   "outputs": [],
   "source": [
    "#Scrape Science mag\n",
    "response = requests.get(\"https://www.scientificamerican.com/\")\n",
    "doc = BeautifulSoup(response.text, 'html.parser')"
   ]
  },
  {
   "cell_type": "code",
   "execution_count": 4,
   "metadata": {
    "scrolled": false
   },
   "outputs": [
    {
     "data": {
      "text/plain": [
       "<div class=\"listing-feature__inner\"><h1 class=\"t_feature-title\"><a href=\"https://www.scientificamerican.com/article/why-people-dislike-really-smart-leaders/\">Why People Dislike Really Smart Leaders</a></h1><p class=\"listing-feature__summary t_body\">Those with an IQ above 120 are perceived as less effective, regardless of actual performance</p><p class=\"listing-feature__meta t_meta\">8 hours ago —  Matthew Hutson</p></div>"
      ]
     },
     "execution_count": 4,
     "metadata": {},
     "output_type": "execute_result"
    }
   ],
   "source": [
    "#Let's try to pull out the feature article\n",
    "feature_article = doc.find('div', {'class': 'listing-feature__inner'})\n",
    "feature_article"
   ]
  },
  {
   "cell_type": "code",
   "execution_count": 5,
   "metadata": {
    "scrolled": true
   },
   "outputs": [
    {
     "data": {
      "text/plain": [
       "{'date': '2018-01-18-15-24',\n",
       " 'headline': 'Why People Dislike Really Smart Leaders',\n",
       " 'href': 'https://www.scientificamerican.com/article/why-people-dislike-really-smart-leaders/',\n",
       " 'summary': 'Those with an IQ above 120 are perceived as less effective, regardless of actual performance'}"
      ]
     },
     "execution_count": 5,
     "metadata": {},
     "output_type": "execute_result"
    }
   ],
   "source": [
    "#Let's create a dictionary for our feature story\n",
    "\n",
    "feature_story = {\n",
    "    'headline': feature_article.find(\"h1\").text,\n",
    "    'href': feature_article.find(\"a\")[\"href\"],\n",
    "    'summary': feature_article.find(\"p\", {\"class\": \"listing-feature__summary t_body\"}).text,\n",
    "    'date': time.strftime(\"%Y-%m-%d-%H-%M\")\n",
    "}\n",
    "\n",
    "feature_story"
   ]
  },
  {
   "cell_type": "code",
   "execution_count": 6,
   "metadata": {
    "collapsed": true
   },
   "outputs": [],
   "source": [
    "def send_sms():\n",
    "    sms_msg = \"NEW Feature from Scientific American: \" + feature_story['headline']\n",
    "\n",
    "    client.messages.create(\n",
    "        to=\"XXXXX\",\n",
    "        from_=\"XXXXX\",\n",
    "        body=sms_msg,\n",
    "        media_url=feature_story['href'])\n"
   ]
  },
  {
   "cell_type": "code",
   "execution_count": 7,
   "metadata": {
    "collapsed": true
   },
   "outputs": [],
   "source": [
    "#Check if the current path has a file called features history\n",
    "#if it doesn't create one using our feature story\n",
    "\n",
    "if os.path.isfile('features_history.csv'):\n",
    "    features_history = pd.read_csv('features_history.csv')\n",
    "    \n",
    "else:\n",
    "    df_feature_story = pd.DataFrame([feature_story])\n",
    "    df_feature_story.to_csv('features_history.csv', index=False)\n",
    "\n",
    "#Check to see if the last feature article on the list is different from the current one\n",
    "#If it is different, append the new feature story to our history file and save it\n",
    "if features_history['headline'].tail(1).item() != feature_story['headline']:\n",
    "    features_history = features_history.append([feature_story])\n",
    "    features_history.to_csv('features_history.csv', index=False)\n",
    "    send_sms()\n",
    "        \n",
    "    "
   ]
  },
  {
   "cell_type": "code",
   "execution_count": 8,
   "metadata": {},
   "outputs": [
    {
     "data": {
      "text/html": [
       "<div>\n",
       "<style>\n",
       "    .dataframe thead tr:only-child th {\n",
       "        text-align: right;\n",
       "    }\n",
       "\n",
       "    .dataframe thead th {\n",
       "        text-align: left;\n",
       "    }\n",
       "\n",
       "    .dataframe tbody tr th {\n",
       "        vertical-align: top;\n",
       "    }\n",
       "</style>\n",
       "<table border=\"1\" class=\"dataframe\">\n",
       "  <thead>\n",
       "    <tr style=\"text-align: right;\">\n",
       "      <th></th>\n",
       "      <th>date</th>\n",
       "      <th>headline</th>\n",
       "      <th>href</th>\n",
       "      <th>summary</th>\n",
       "    </tr>\n",
       "  </thead>\n",
       "  <tbody>\n",
       "    <tr>\n",
       "      <th>0</th>\n",
       "      <td>2018-01-18-14-37</td>\n",
       "      <td>Why People Dislike Really Smart Leaders</td>\n",
       "      <td>https://www.scientificamerican.com/article/why...</td>\n",
       "      <td>Those with an IQ above 120 are perceived as le...</td>\n",
       "    </tr>\n",
       "  </tbody>\n",
       "</table>\n",
       "</div>"
      ],
      "text/plain": [
       "               date                                 headline  \\\n",
       "0  2018-01-18-14-37  Why People Dislike Really Smart Leaders   \n",
       "\n",
       "                                                href  \\\n",
       "0  https://www.scientificamerican.com/article/why...   \n",
       "\n",
       "                                             summary  \n",
       "0  Those with an IQ above 120 are perceived as le...  "
      ]
     },
     "execution_count": 8,
     "metadata": {},
     "output_type": "execute_result"
    }
   ],
   "source": [
    "features_history"
   ]
  },
  {
   "cell_type": "code",
   "execution_count": null,
   "metadata": {
    "collapsed": true
   },
   "outputs": [],
   "source": []
  }
 ],
 "metadata": {
  "kernelspec": {
   "display_name": "Python 3",
   "language": "python",
   "name": "python3"
  },
  "language_info": {
   "codemirror_mode": {
    "name": "ipython",
    "version": 3
   },
   "file_extension": ".py",
   "mimetype": "text/x-python",
   "name": "python",
   "nbconvert_exporter": "python",
   "pygments_lexer": "ipython3",
   "version": "3.6.1"
  }
 },
 "nbformat": 4,
 "nbformat_minor": 2
}
